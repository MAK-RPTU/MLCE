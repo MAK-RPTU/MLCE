{
 "cells": [
  {
   "cell_type": "code",
   "execution_count": null,
   "id": "3f74a5fd",
   "metadata": {},
   "outputs": [],
   "source": [
    "import numpy as np\n",
    "import matplotlib.pyplot as plt\n",
    "\n",
    "\n",
    "\n",
    "k_max  = 100\n",
    "step_size = 0.1\n",
    "x_trajectory = np.zeros((2,k_max))\n",
    "y_trajectory = np.zeros((1,k_max))\n",
    "Q = np.array[[4,0],[0,2]]\n",
    "f = np.array[[1], [2]]\n",
    "x= np.array[[5],[5]]\n",
    "\n",
    "x_analytical =np.linalg.inv(Q)@f\n",
    "\n",
    "def cost(x, Q, f) -> np.ndarray:\n",
    "    J = 0.5*x.T@Q@x + f.T@x\n",
    "    return J\n",
    "\n",
    "def gradient(x, Q, f) -> np.ndarray:\n",
    "    grad = Q@x + f\n",
    "    return grad\n",
    "\n",
    "for k"
   ]
  }
 ],
 "metadata": {
  "kernelspec": {
   "display_name": "Python 3 (ipykernel)",
   "language": "python",
   "name": "python3"
  },
  "language_info": {
   "codemirror_mode": {
    "name": "ipython",
    "version": 3
   },
   "file_extension": ".py",
   "mimetype": "text/x-python",
   "name": "python",
   "nbconvert_exporter": "python",
   "pygments_lexer": "ipython3",
   "version": "3.9.12"
  }
 },
 "nbformat": 4,
 "nbformat_minor": 5
}
