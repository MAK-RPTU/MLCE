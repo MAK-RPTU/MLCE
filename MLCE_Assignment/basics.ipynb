{
 "cells": [
  {
   "cell_type": "code",
   "execution_count": 1,
   "metadata": {},
   "outputs": [],
   "source": [
    "import numpy as np"
   ]
  },
  {
   "cell_type": "code",
   "execution_count": 2,
   "metadata": {},
   "outputs": [
    {
     "name": "stdout",
     "output_type": "stream",
     "text": [
      "cos(0):  1.0\n",
      "x vector:  [ 0.  1.  2.  3.  4.  5.  6.  7.  8.  9. 10.]\n",
      "y vector:  [  0.   1.   4.   9.  16.  25.  36.  49.  64.  81. 100.]\n"
     ]
    }
   ],
   "source": [
    "## math\n",
    "x = 0\n",
    "y = np.cos(x)\n",
    "print(\"cos(0): \", y)\n",
    "\n",
    "x = np.linspace(0, 10, 11)\n",
    "print(\"x vector: \", x)\n",
    "y = x**2\n",
    "print(\"y vector: \", y)"
   ]
  },
  {
   "cell_type": "code",
   "execution_count": 3,
   "metadata": {},
   "outputs": [
    {
     "name": "stdout",
     "output_type": "stream",
     "text": [
      "sum: 5\n",
      "sanity check: 5\n"
     ]
    }
   ],
   "source": [
    "## for loops\n",
    "\n",
    "sum = 0\n",
    "for i in range(0, 3):\n",
    "    sum += i**2\n",
    "\n",
    "print(\"sum:\", sum)\n",
    "print(\"sanity check:\", 0**2 + 1**2 + 2**2)"
   ]
  },
  {
   "cell_type": "code",
   "execution_count": 4,
   "metadata": {},
   "outputs": [
    {
     "name": "stdout",
     "output_type": "stream",
     "text": [
      "outout function: 4\n"
     ]
    }
   ],
   "source": [
    "## functions\n",
    "\n",
    "def my_fun(x):\n",
    "    y = x**2\n",
    "    return y\n",
    "\n",
    "print(\"outout function:\", my_fun(2))"
   ]
  },
  {
   "cell_type": "code",
   "execution_count": 5,
   "metadata": {},
   "outputs": [
    {
     "name": "stdout",
     "output_type": "stream",
     "text": [
      "uniformly distributed vector [[0.16109942]\n",
      " [0.64902896]]\n",
      "normally distributed vector [[-0.49939641]\n",
      " [ 0.7999583 ]\n",
      " [ 1.16206624]]\n"
     ]
    }
   ],
   "source": [
    "# random values\n",
    "# uniformly distributed in interval [0,1)\n",
    "a = np.random.rand(2,1)\n",
    "print(\"uniformly distributed vector\", a)\n",
    "\n",
    "# gaussian distributed\n",
    "a = np.random.randn(3,1)\n",
    "print(\"normally distributed vector\", a)"
   ]
  },
  {
   "cell_type": "code",
   "execution_count": 6,
   "metadata": {},
   "outputs": [
    {
     "name": "stdout",
     "output_type": "stream",
     "text": [
      "1\n",
      "test\n",
      "1.0\n"
     ]
    }
   ],
   "source": [
    "# dictionaries\n",
    "list = {\n",
    "    \"a\": 1,\n",
    "    \"b\": \"test\",\n",
    "    \"c\": np.cos(0)\n",
    "}\n",
    "\n",
    "print(list[\"a\"])\n",
    "print(list[\"b\"])\n",
    "print(list[\"c\"])"
   ]
  },
  {
   "cell_type": "code",
   "execution_count": 7,
   "metadata": {},
   "outputs": [
    {
     "name": "stdout",
     "output_type": "stream",
     "text": [
      "0.2\n",
      "0.2\n"
     ]
    }
   ],
   "source": [
    "# classes\n",
    "\n",
    "class LTISystem:\n",
    "    def __init__(self, A, B, x0) -> None:\n",
    "        self.A = A\n",
    "        self.B = B\n",
    "        self.x = x0\n",
    "        pass\n",
    "\n",
    "    def step(self, u):\n",
    "        self.x = self.A*self.x + self.B*u\n",
    "        return self.x\n",
    "    \n",
    "sys = LTISystem(.2, 1, 1)\n",
    "x_next = sys.step(0)\n",
    "\n",
    "print(sys.A)\n",
    "print(x_next)\n"
   ]
  },
  {
   "cell_type": "code",
   "execution_count": 8,
   "metadata": {},
   "outputs": [
    {
     "name": "stdout",
     "output_type": "stream",
     "text": [
      "A\n",
      "[[1 2 3]\n",
      " [4 5 6]]\n",
      "B\n",
      "[[1 2]\n",
      " [3 4]\n",
      " [5 6]]\n",
      "[[0. 0. 0.]\n",
      " [0. 0. 0.]]\n"
     ]
    },
    {
     "data": {
      "text/plain": [
       "numpy.ndarray"
      ]
     },
     "execution_count": 8,
     "metadata": {},
     "output_type": "execute_result"
    }
   ],
   "source": [
    "## matrices\n",
    "A = np.array([[1, 2, 3], [4, 5, 6]])\n",
    "B = np.array([[1, 2], [3, 4], [5, 6]])\n",
    "\n",
    "print(\"A\")\n",
    "print(A)\n",
    "print(\"B\")\n",
    "print(B)\n",
    "\n",
    "# zero matrix\n",
    "N = np.zeros((2, 3))\n",
    "print(N)\n",
    "type(N)\n"
   ]
  },
  {
   "cell_type": "code",
   "execution_count": 10,
   "metadata": {},
   "outputs": [
    {
     "name": "stdout",
     "output_type": "stream",
     "text": [
      "shape A: (2, 3)\n",
      "shape a: (3,)\n",
      "shape a: (3, 1)\n",
      "shape a: (3, 1)\n",
      "first row of A: [1 2 3]\n",
      "shape a: (3,)\n",
      "element 2,3 of A:  6\n"
     ]
    }
   ],
   "source": [
    "## shapes\n",
    "print(\"shape A:\", np.shape(A))\n",
    "\n",
    "a = np.array([1, 2, 3])\n",
    "print(\"shape a:\", np.shape(a))\n",
    "\n",
    "a = np.reshape(a,(3,1))\n",
    "print(\"shape a:\", np.shape(a))\n",
    "\n",
    "a = np.array([[1], [2], [3]])\n",
    "print(\"shape a:\", np.shape(a))\n",
    "\n",
    "# indexing\n",
    "a = A[0,:]\n",
    "print(\"first row of A:\", a)\n",
    "print(\"shape a:\", np.shape(a))\n",
    "\n",
    "a = A[1,2]\n",
    "print(\"element 2,3 of A: \", a)"
   ]
  },
  {
   "cell_type": "code",
   "execution_count": 11,
   "metadata": {},
   "outputs": [
    {
     "name": "stdout",
     "output_type": "stream",
     "text": [
      "v:  [[1]\n",
      " [2]\n",
      " [3]]\n",
      "v1:  [[1 2]\n",
      " [4 5]]\n",
      "v2:  [[3]\n",
      " [6]]\n",
      "[[1 2 3]\n",
      " [4 5 6]]\n"
     ]
    }
   ],
   "source": [
    "# stacking and appending\n",
    "a = 1\n",
    "b = 2\n",
    "c = 3\n",
    "\n",
    "v = np.vstack([[a],[b],[c]])\n",
    "print(\"v: \", v)\n",
    "\n",
    "v1 = np.array([[1, 2],[4, 5]])\n",
    "v2 = np.array([[3],[6]])\n",
    "\n",
    "print(\"v1: \", v1)\n",
    "print(\"v2: \", v2)\n",
    "\n",
    "M = np.append(v1,v2,axis=1)\n",
    "print(M)"
   ]
  },
  {
   "cell_type": "code",
   "execution_count": 12,
   "metadata": {},
   "outputs": [
    {
     "name": "stdout",
     "output_type": "stream",
     "text": [
      "C = A@B\n",
      "[[22 28]\n",
      " [49 64]]\n",
      "inv(A) [[ 0.6 -0.2]\n",
      " [-0.2  0.4]]\n",
      "A*inv(A) =  [[ 1.00000000e+00  0.00000000e+00]\n",
      " [-5.55111512e-17  1.00000000e+00]]\n"
     ]
    }
   ],
   "source": [
    "# matrix multiplication\n",
    "C = A@B\n",
    "\n",
    "print(\"C = A@B\")\n",
    "print(C)\n",
    "\n",
    "# matrix inversion\n",
    "A = np.array([[2, 1],[1, 3]])\n",
    "A_inv = np.linalg.inv(A)\n",
    "print(\"inv(A)\",A_inv)\n",
    "\n",
    "print(\"A*inv(A) = \", A@A_inv)"
   ]
  },
  {
   "cell_type": "code",
   "execution_count": 13,
   "metadata": {},
   "outputs": [
    {
     "data": {
      "text/plain": [
       "Text(0.5, 1.0, 'quadratic function')"
      ]
     },
     "execution_count": 13,
     "metadata": {},
     "output_type": "execute_result"
    },
    {
     "data": {
      "image/png": "[encoded data removed]",
      "text/plain": [
       "<Figure size 432x288 with 1 Axes>"
      ]
     },
     "metadata": {
      "needs_background": "light"
     },
     "output_type": "display_data"
    }
   ],
   "source": [
    "# plotting\n",
    "\n",
    "import matplotlib.pyplot as plt\n",
    "\n",
    "x = np.arange(-10,10,.1)\n",
    "y_1 = x**2\n",
    "\n",
    "plt.figure()\n",
    "plt.plot(x, y_1)\n",
    "plt.xlabel('x')\n",
    "plt.ylabel('y')\n",
    "plt.title('quadratic function')"
   ]
  },
  {
   "cell_type": "code",
   "execution_count": 14,
   "metadata": {},
   "outputs": [
    {
     "data": {
      "text/plain": [
       "Text(0.5, 1.0, 'circle')"
      ]
     },
     "execution_count": 14,
     "metadata": {},
     "output_type": "execute_result"
    },
    {
     "data": {
      "image/png": "[encoded data removed]",
      "text/plain": [
       "<Figure size 432x288 with 1 Axes>"
      ]
     },
     "metadata": {
      "needs_background": "light"
     },
     "output_type": "display_data"
    }
   ],
   "source": [
    "## plot cirlce\n",
    "center = np.array([1, 1])\n",
    "radius = 3\n",
    "theta = np.linspace(0, 2*np.pi, 100)\n",
    "x = center[0] + np.cos(theta)\n",
    "y = center[1] + np.sin(theta)\n",
    "\n",
    "plt.figure()\n",
    "plt.plot(x, y)\n",
    "plt.xlabel('x')\n",
    "plt.ylabel('y')\n",
    "plt.title('circle')\n"
   ]
  },
  {
   "cell_type": "code",
   "execution_count": 15,
   "metadata": {},
   "outputs": [
    {
     "data": {
      "text/plain": [
       "[Text(0.5, 1.0, 'square root')]"
      ]
     },
     "execution_count": 15,
     "metadata": {},
     "output_type": "execute_result"
    },
    {
     "data": {
      "image/png": "[encoded data removed]",
      "text/plain": [
       "<Figure size 432x288 with 6 Axes>"
      ]
     },
     "metadata": {
      "needs_background": "light"
     },
     "output_type": "display_data"
    }
   ],
   "source": [
    "x = np.linspace(-5,5,100)\n",
    "\n",
    "y_1 = x**2\n",
    "y_2 = x**3\n",
    "y_3 = np.sin(x)\n",
    "y_4 = 3*x + 4\n",
    "y_5 = np.cos(x)\n",
    "y_6 = np.sqrt(x+10)\n",
    "\n",
    "fig, ax = plt.subplots(3, 2, layout=\"constrained\")\n",
    "ax[0, 0].plot(x, y_1)\n",
    "ax[0, 0].plot(x, y_2)\n",
    "ax[0, 0].set(ylabel='y', xlabel='x')\n",
    "ax[0, 0].legend(['y_1','y_2'])\n",
    "ax[0, 0].set(title='polynomials: x^2 and x^3')\n",
    "\n",
    "ax[0, 1].plot(x, y_2)\n",
    "ax[0, 1].set(ylabel='y', xlabel='x')\n",
    "ax[0, 1].set(title='x^3')\n",
    "\n",
    "ax[1, 0].plot(x, y_3)\n",
    "ax[1, 0].set(ylabel='y', xlabel='x')\n",
    "ax[1, 0].set(title='sine')\n",
    "\n",
    "ax[1, 1].plot(x, y_4)\n",
    "ax[1, 1].set(ylabel='y', xlabel='x')\n",
    "ax[1, 1].set(title='x^3 + 4')\n",
    "\n",
    "ax[2, 0].plot(x, y_5)\n",
    "ax[2, 0].set(ylabel='y', xlabel='x')\n",
    "ax[2, 0].set(title='cosine')\n",
    "\n",
    "ax[2, 1].plot(x, y_6)\n",
    "ax[2, 1].set(ylabel='y', xlabel='x')\n",
    "ax[2, 1].set(title='square root')\n"
   ]
  },
  {
   "cell_type": "code",
   "execution_count": 16,
   "metadata": {},
   "outputs": [
    {
     "data": {
      "image/png": "[encoded data removed]",
      "text/plain": [
       "<Figure size 432x288 with 1 Axes>"
      ]
     },
     "metadata": {
      "needs_background": "light"
     },
     "output_type": "display_data"
    }
   ],
   "source": [
    "## contour plot\n",
    "x = np.arange(1, 10)\n",
    "y = x.reshape(-1, 1)\n",
    "h = x * y\n",
    "\n",
    "cs = plt.contourf(x, x, h, levels=[1, 5, 10, 30, 50, 80])\n"
   ]
  },
  {
   "cell_type": "code",
   "execution_count": null,
   "metadata": {},
   "outputs": [],
   "source": []
  }
 ],
 "metadata": {
  "kernelspec": {
   "display_name": "Python 3 (ipykernel)",
   "language": "python",
   "name": "python3"
  },
  "language_info": {
   "codemirror_mode": {
    "name": "ipython",
    "version": 3
   },
   "file_extension": ".py",
   "mimetype": "text/x-python",
   "name": "python",
   "nbconvert_exporter": "python",
   "pygments_lexer": "ipython3",
   "version": "3.9.12"
  }
 },
 "nbformat": 4,
 "nbformat_minor": 2
}
